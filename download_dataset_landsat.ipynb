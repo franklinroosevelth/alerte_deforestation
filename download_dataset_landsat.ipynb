{
  "nbformat": 4,
  "nbformat_minor": 0,
  "metadata": {
    "colab": {
      "provenance": [],
      "authorship_tag": "ABX9TyMklcPOZcN5unhiVNA4aJep",
      "include_colab_link": true
    },
    "kernelspec": {
      "name": "python3",
      "display_name": "Python 3"
    },
    "language_info": {
      "name": "python"
    }
  },
  "cells": [
    {
      "cell_type": "markdown",
      "metadata": {
        "id": "view-in-github",
        "colab_type": "text"
      },
      "source": [
        "<a href=\"https://colab.research.google.com/github/franklinroosevelth/alerte_deforestation/blob/main/download_dataset_landsat.ipynb\" target=\"_parent\"><img src=\"https://colab.research.google.com/assets/colab-badge.svg\" alt=\"Open In Colab\"/></a>"
      ]
    },
    {
      "cell_type": "code",
      "source": [
        "import ee\n",
        "import os"
      ],
      "metadata": {
        "id": "Mox2n3xY7t5B"
      },
      "execution_count": null,
      "outputs": []
    },
    {
      "cell_type": "code",
      "source": [
        "ee.Authenticate()"
      ],
      "metadata": {
        "id": "xKGEiU6O7vAe"
      },
      "execution_count": null,
      "outputs": []
    },
    {
      "cell_type": "code",
      "source": [
        "ee.Initialize(project='ee-franklinmwamba67')"
      ],
      "metadata": {
        "id": "mN2mO_D_7xEi"
      },
      "execution_count": null,
      "outputs": []
    },
    {
      "cell_type": "code",
      "source": [
        "# Définir la région d'intérêt (ROI) pour la République démocratique du Congo (RDC)\n",
        "roi = ee.Geometry.Rectangle([11.0, -13.5, 31.0, 5.0])\n",
        "\n",
        "# Définir les dates de début et de fin\n",
        "start_date = '2021-12-20'\n",
        "end_date = '2021-12-31'"
      ],
      "metadata": {
        "id": "qLa7y_-V79yk"
      },
      "execution_count": null,
      "outputs": []
    },
    {
      "cell_type": "code",
      "source": [
        "# Charger les images Landsat 9 pour la RDC pour la période spécifiée\n",
        "collection = ee.ImageCollection('LANDSAT/LC08/C01/T1_SR') \\\n",
        "    .filterBounds(roi) \\\n",
        "    .filterDate(start_date, end_date) \\\n",
        "    .filter(ee.Filter.lt('CLOUD_COVER', 20))  # Filtre pour exclure les images avec une couverture nuageuse de plus de 20%"
      ],
      "metadata": {
        "id": "UMYVC2mb8BVB"
      },
      "execution_count": null,
      "outputs": []
    },
    {
      "cell_type": "code",
      "source": [
        "# Nombre total d'images dans la collection\n",
        "count = collection.size().getInfo()\n",
        "print('Nombre total d\\'images :', count)"
      ],
      "metadata": {
        "colab": {
          "base_uri": "https://localhost:8080/"
        },
        "id": "gl3nCjXw8Ev5",
        "outputId": "e85ccd7b-ce0b-414d-c809-fd7184b63fd4"
      },
      "execution_count": null,
      "outputs": [
        {
          "output_type": "stream",
          "name": "stdout",
          "text": [
            "Nombre total d'images : 17\n"
          ]
        }
      ]
    },
    {
      "cell_type": "code",
      "source": [
        "for i in range(count):\n",
        "    image = ee.Image(collection.toList(count).get(i))\n",
        "    image_id = image.id().getInfo()\n",
        "    print('Téléchargement de l\\'image', i+1, '/', count, 'ID:', image_id)\n",
        "\n",
        "    # Télécharger l'image\n",
        "    documents_dir = os.path.join(os.path.expanduser('~'), 'Documents', 'test_foret')\n",
        "\n",
        "    file_path = os.path.join(documents_dir, image_id + '.tif')\n",
        "    task = ee.batch.Export.image.toDrive(image=image,\n",
        "                                         description=image_id,\n",
        "                                         folder='dataset_foret',\n",
        "                                         fileNamePrefix=image_id,\n",
        "                                         scale=30)\n",
        "    task.start()\n",
        "    print('Téléchargement en cours...')"
      ],
      "metadata": {
        "colab": {
          "base_uri": "https://localhost:8080/"
        },
        "id": "WOn88bSC8KyM",
        "outputId": "55ee3106-d878-49f4-ea36-a1da85dda61c"
      },
      "execution_count": null,
      "outputs": [
        {
          "output_type": "stream",
          "name": "stdout",
          "text": [
            "Téléchargement de l'image 1 / 17 ID: LC08_171065_20211228\n",
            "Téléchargement en cours...\n",
            "Téléchargement de l'image 2 / 17 ID: LC08_171068_20211228\n",
            "Téléchargement en cours...\n",
            "Téléchargement de l'image 3 / 17 ID: LC08_171069_20211228\n",
            "Téléchargement en cours...\n",
            "Téléchargement de l'image 4 / 17 ID: LC08_171070_20211228\n",
            "Téléchargement en cours...\n",
            "Téléchargement de l'image 5 / 17 ID: LC08_175056_20211224\n",
            "Téléchargement en cours...\n",
            "Téléchargement de l'image 6 / 17 ID: LC08_177056_20211222\n",
            "Téléchargement en cours...\n",
            "Téléchargement de l'image 7 / 17 ID: LC08_177057_20211222\n",
            "Téléchargement en cours...\n",
            "Téléchargement de l'image 8 / 17 ID: LC08_179056_20211220\n",
            "Téléchargement en cours...\n",
            "Téléchargement de l'image 9 / 17 ID: LC08_182061_20211225\n",
            "Téléchargement en cours...\n",
            "Téléchargement de l'image 10 / 17 ID: LC08_182069_20211225\n",
            "Téléchargement en cours...\n",
            "Téléchargement de l'image 11 / 17 ID: LC08_182070_20211225\n",
            "Téléchargement en cours...\n",
            "Téléchargement de l'image 12 / 17 ID: LC08_184056_20211223\n",
            "Téléchargement en cours...\n",
            "Téléchargement de l'image 13 / 17 ID: LC08_184057_20211223\n",
            "Téléchargement en cours...\n",
            "Téléchargement de l'image 14 / 17 ID: LC08_185056_20211230\n",
            "Téléchargement en cours...\n",
            "Téléchargement de l'image 15 / 17 ID: LC08_186056_20211221\n",
            "Téléchargement en cours...\n",
            "Téléchargement de l'image 16 / 17 ID: LC08_186057_20211221\n",
            "Téléchargement en cours...\n",
            "Téléchargement de l'image 17 / 17 ID: LC08_186058_20211221\n",
            "Téléchargement en cours...\n"
          ]
        }
      ]
    },
    {
      "cell_type": "code",
      "source": [
        "for i in range(count):\n",
        "    image = ee.Image(collection.toList(count).get(i))\n",
        "    image_id = image.id().getInfo()\n",
        "    print('Téléchargement de l\\'image', i+1, '/', count, 'ID:', image_id)\n",
        "\n",
        "    # Convertit toutes les bandes de l'image en UInt16\n",
        "    image = image.select([]).addBands(image.select([]).toInt16())  # Remplacez [] par les bandes nécessaires\n",
        "\n",
        "    # Télécharger l'image vers Google Drive\n",
        "    task = ee.batch.Export.image.toDrive(image=image,\n",
        "                                         description=image_id,\n",
        "                                         folder='dataset_foret',\n",
        "                                         fileNamePrefix=image_id,\n",
        "                                         scale=30,\n",
        "                                         fileFormat='GeoTIFF')\n",
        "    task.start()\n",
        "    print('Téléchargement en cours...')\n"
      ],
      "metadata": {
        "colab": {
          "base_uri": "https://localhost:8080/"
        },
        "id": "LJghU6aa8Pa_",
        "outputId": "6893dec4-e821-46a4-f212-aded2f1357d9"
      },
      "execution_count": null,
      "outputs": [
        {
          "output_type": "stream",
          "name": "stdout",
          "text": [
            "Téléchargement de l'image 1 / 17 ID: LC08_171065_20211228\n",
            "Téléchargement en cours...\n",
            "Téléchargement de l'image 2 / 17 ID: LC08_171068_20211228\n",
            "Téléchargement en cours...\n",
            "Téléchargement de l'image 3 / 17 ID: LC08_171069_20211228\n",
            "Téléchargement en cours...\n",
            "Téléchargement de l'image 4 / 17 ID: LC08_171070_20211228\n",
            "Téléchargement en cours...\n",
            "Téléchargement de l'image 5 / 17 ID: LC08_175056_20211224\n",
            "Téléchargement en cours...\n",
            "Téléchargement de l'image 6 / 17 ID: LC08_177056_20211222\n",
            "Téléchargement en cours...\n",
            "Téléchargement de l'image 7 / 17 ID: LC08_177057_20211222\n",
            "Téléchargement en cours...\n",
            "Téléchargement de l'image 8 / 17 ID: LC08_179056_20211220\n",
            "Téléchargement en cours...\n",
            "Téléchargement de l'image 9 / 17 ID: LC08_182061_20211225\n",
            "Téléchargement en cours...\n",
            "Téléchargement de l'image 10 / 17 ID: LC08_182069_20211225\n",
            "Téléchargement en cours...\n",
            "Téléchargement de l'image 11 / 17 ID: LC08_182070_20211225\n",
            "Téléchargement en cours...\n",
            "Téléchargement de l'image 12 / 17 ID: LC08_184056_20211223\n",
            "Téléchargement en cours...\n",
            "Téléchargement de l'image 13 / 17 ID: LC08_184057_20211223\n",
            "Téléchargement en cours...\n",
            "Téléchargement de l'image 14 / 17 ID: LC08_185056_20211230\n",
            "Téléchargement en cours...\n",
            "Téléchargement de l'image 15 / 17 ID: LC08_186056_20211221\n",
            "Téléchargement en cours...\n",
            "Téléchargement de l'image 16 / 17 ID: LC08_186057_20211221\n",
            "Téléchargement en cours...\n",
            "Téléchargement de l'image 17 / 17 ID: LC08_186058_20211221\n",
            "Téléchargement en cours...\n"
          ]
        }
      ]
    },
    {
      "cell_type": "code",
      "source": [
        "print(task.status())"
      ],
      "metadata": {
        "colab": {
          "base_uri": "https://localhost:8080/"
        },
        "id": "r0mdrAj28aNT",
        "outputId": "24c81d58-7897-4a0e-fffb-4b878524b624"
      },
      "execution_count": null,
      "outputs": [
        {
          "output_type": "stream",
          "name": "stdout",
          "text": [
            "{'state': 'READY', 'description': 'LC08_186058_20211221', 'priority': 100, 'creation_timestamp_ms': 1711207990530, 'update_timestamp_ms': 1711207995504, 'start_timestamp_ms': 0, 'task_type': 'EXPORT_IMAGE', 'id': 'DG3MY4WNSQ4NFF4OHOVRS2JX', 'name': 'projects/ee-franklinmwamba67/operations/DG3MY4WNSQ4NFF4OHOVRS2JX'}\n"
          ]
        }
      ]
    },
    {
      "cell_type": "code",
      "source": [
        "corrige ce code :"
      ],
      "metadata": {
        "colab": {
          "base_uri": "https://localhost:8080/",
          "height": 106
        },
        "id": "H4CCjHP08wGN",
        "outputId": "0a395552-de8a-43b5-bc93-48007c1ae23a"
      },
      "execution_count": null,
      "outputs": [
        {
          "output_type": "error",
          "ename": "SyntaxError",
          "evalue": "invalid syntax (<ipython-input-11-ed4a9682637b>, line 1)",
          "traceback": [
            "\u001b[0;36m  File \u001b[0;32m\"<ipython-input-11-ed4a9682637b>\"\u001b[0;36m, line \u001b[0;32m1\u001b[0m\n\u001b[0;31m    corrige ce code :\u001b[0m\n\u001b[0m            ^\u001b[0m\n\u001b[0;31mSyntaxError\u001b[0m\u001b[0;31m:\u001b[0m invalid syntax\n"
          ]
        }
      ]
    },
    {
      "cell_type": "code",
      "source": [
        "# prompt: corrige ce code:\n",
        "# for i in range(count):\n",
        "#     image = ee.Image(collection.toList(count).get(i))\n",
        "#     image_id = image.id().getInfo()\n",
        "#     print('Téléchargement de l\\'image', i+1, '/', count, 'ID:', image_id)\n",
        "#     # Convertit toutes les bandes de l'image en UInt16\n",
        "#     image = image.select([]).addBands(image.select([]).toInt16())  # Remplacez [] par les bandes nécessaires\n",
        "#     # Télécharger l'im\n",
        "\n",
        "for i in range(count):\n",
        "    image = ee.Image(collection.toList(count).get(i))\n",
        "    image_id = image.id().getInfo()\n",
        "    print('Téléchargement de l\\'image', i+1, '/', count, 'ID:', image_id)\n",
        "    # Convertit toutes les bandes de l'image en UInt16\n",
        "    image = image.select(['B3', 'B4', 'B5']).addBands(image.select(['B3', 'B4', 'B5']).toInt16())  # Remplacez [] par les bandes nécessaires\n",
        "    # Télécharger l'image vers Google Drive\n",
        "    task = ee.batch.Export.image.toDrive(image=image,\n",
        "                                         description=image_id,\n",
        "                                         folder='dataset_foret',\n",
        "                                         fileNamePrefix=image_id,\n",
        "                                         scale=30,\n",
        "                                         fileFormat='GeoTIFF')\n",
        "    task.start()\n",
        "    print('Téléchargement en cours...')\n",
        "\n",
        "print(task.status())\n"
      ],
      "metadata": {
        "colab": {
          "base_uri": "https://localhost:8080/"
        },
        "id": "ryPIdBLD8xkm",
        "outputId": "d7cfddab-de15-4021-b77b-351d84a5f0c2"
      },
      "execution_count": null,
      "outputs": [
        {
          "output_type": "stream",
          "name": "stdout",
          "text": [
            "Téléchargement de l'image 1 / 17 ID: LC08_171065_20211228\n",
            "Téléchargement en cours...\n",
            "Téléchargement de l'image 2 / 17 ID: LC08_171068_20211228\n",
            "Téléchargement en cours...\n",
            "Téléchargement de l'image 3 / 17 ID: LC08_171069_20211228\n",
            "Téléchargement en cours...\n",
            "Téléchargement de l'image 4 / 17 ID: LC08_171070_20211228\n",
            "Téléchargement en cours...\n",
            "Téléchargement de l'image 5 / 17 ID: LC08_175056_20211224\n",
            "Téléchargement en cours...\n",
            "Téléchargement de l'image 6 / 17 ID: LC08_177056_20211222\n",
            "Téléchargement en cours...\n",
            "Téléchargement de l'image 7 / 17 ID: LC08_177057_20211222\n",
            "Téléchargement en cours...\n",
            "Téléchargement de l'image 8 / 17 ID: LC08_179056_20211220\n",
            "Téléchargement en cours...\n",
            "Téléchargement de l'image 9 / 17 ID: LC08_182061_20211225\n",
            "Téléchargement en cours...\n",
            "Téléchargement de l'image 10 / 17 ID: LC08_182069_20211225\n",
            "Téléchargement en cours...\n",
            "Téléchargement de l'image 11 / 17 ID: LC08_182070_20211225\n",
            "Téléchargement en cours...\n",
            "Téléchargement de l'image 12 / 17 ID: LC08_184056_20211223\n",
            "Téléchargement en cours...\n",
            "Téléchargement de l'image 13 / 17 ID: LC08_184057_20211223\n",
            "Téléchargement en cours...\n",
            "Téléchargement de l'image 14 / 17 ID: LC08_185056_20211230\n",
            "Téléchargement en cours...\n",
            "Téléchargement de l'image 15 / 17 ID: LC08_186056_20211221\n",
            "Téléchargement en cours...\n",
            "Téléchargement de l'image 16 / 17 ID: LC08_186057_20211221\n",
            "Téléchargement en cours...\n",
            "Téléchargement de l'image 17 / 17 ID: LC08_186058_20211221\n",
            "Téléchargement en cours...\n",
            "{'state': 'READY', 'description': 'LC08_186058_20211221', 'priority': 100, 'creation_timestamp_ms': 1711208129883, 'update_timestamp_ms': 1711208129883, 'start_timestamp_ms': 0, 'task_type': 'EXPORT_IMAGE', 'id': '55TSNUBCG2NNFUCTCJBVD63X', 'name': 'projects/ee-franklinmwamba67/operations/55TSNUBCG2NNFUCTCJBVD63X'}\n"
          ]
        }
      ]
    },
    {
      "cell_type": "code",
      "source": [],
      "metadata": {
        "id": "1QC3LTc8b1Ts"
      },
      "execution_count": null,
      "outputs": []
    }
  ]
}